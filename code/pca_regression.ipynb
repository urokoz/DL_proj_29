{
 "cells": [
  {
   "cell_type": "code",
   "execution_count": 6,
   "metadata": {},
   "outputs": [],
   "source": [
    "import json\n",
    "import sys\n",
    "import torch\n",
    "import pickle\n",
    "import numpy as np\n",
    "import matplotlib.pyplot as plt\n",
    "from os import path\n",
    "from tqdm import tqdm\n",
    "from IPython.display import clear_output\n",
    "from sklearn.decomposition import IncrementalPCA\n",
    "sys.path.append('../code')\n",
    "from data_loader import get_dataset\n",
    "from models.regressor_model import Regressor"
   ]
  },
  {
   "cell_type": "code",
   "execution_count": 7,
   "metadata": {},
   "outputs": [
    {
     "name": "stdout",
     "output_type": "stream",
     "text": [
      "Dataset loaded\n",
      "Dataset loaded\n",
      "Dataset loaded\n"
     ]
    }
   ],
   "source": [
    "with open(\"../data/data.json\", \"r\") as f:\n",
    "        data_dict = json.load(f)\n",
    "\n",
    "unlabeled_dataloader, training_dataloader, validation_dataloader = get_dataset(data_dict=data_dict, batch_size=64)"
   ]
  },
  {
   "cell_type": "code",
   "execution_count": 8,
   "metadata": {},
   "outputs": [],
   "source": [
    "n_components = 100\n",
    "ipca = IncrementalPCA(n_components=n_components)\n",
    "pca_model_path = \"pca_model.pkl\"\n",
    "\n",
    "if path.exists(pca_model_path):\n",
    "    with open(pca_model_path, \"rb\") as f:\n",
    "        ipca = pickle.load(f)\n",
    "else:\n",
    "    # create PCA incrementally\n",
    "    for U, _ in tqdm(unlabeled_dataloader):\n",
    "        ipca.partial_fit(U)\n",
    "    with open(pca_model_path, \"wb\") as f:\n",
    "        pickle.dump(ipca, f)"
   ]
  },
  {
   "cell_type": "code",
   "execution_count": 9,
   "metadata": {},
   "outputs": [
    {
     "name": "stdout",
     "output_type": "stream",
     "text": [
      "4\n",
      "29\n"
     ]
    }
   ],
   "source": [
    "use_cuda = False\n",
    "out_features = 10000\n",
    "\n",
    "model = Regressor([n_components, 4096, out_features])\n",
    "if use_cuda:\n",
    "    model = model.cuda()\n",
    "\n",
    "optimizer = torch.optim.Adam(model.parameters(), lr=1e-4, weight_decay=1e-5)\n",
    "criterion = torch.nn.MSELoss()\n",
    "\n",
    "if use_cuda:\n",
    "    criterion = criterion.cuda()\n",
    "\n",
    "def get_numpy(x):\n",
    "    \"\"\" Get numpy array for both cuda and not. \"\"\"\n",
    "    if use_cuda:\n",
    "        return x.cpu().data.numpy()\n",
    "    return x.data.numpy()\n",
    "\n",
    "print(len(validation_dataloader))\n",
    "print(len(training_dataloader))"
   ]
  },
  {
   "cell_type": "code",
   "execution_count": 10,
   "metadata": {},
   "outputs": [
    {
     "name": "stdout",
     "output_type": "stream",
     "text": [
      "Training loss: 1.1579164028167725\n",
      "Validation loss: 1.0492037236690521\n",
      "\n"
     ]
    },
    {
     "data": {
      "image/png": "[encoded data removed]",
      "text/plain": [
       "<Figure size 1200x400 with 1 Axes>"
      ]
     },
     "metadata": {},
     "output_type": "display_data"
    },
    {
     "name": "stdout",
     "output_type": "stream",
     "text": [
      "y_pred=tensor([[0.6785, 0.5204, 0.7546,  ..., 0.7859, 0.4008, 0.3969],\n",
      "        [0.9074, 0.6324, 0.6288,  ..., 0.7117, 0.5703, 0.7631],\n",
      "        [1.0000, 1.0024, 0.6053,  ..., 0.2346, 0.7794, 0.8288],\n",
      "        ...,\n",
      "        [0.5211, 0.9109, 0.4600,  ..., 0.9945, 0.3782, 0.4681],\n",
      "        [0.6390, 0.6705, 0.5469,  ..., 1.1676, 0.4454, 0.5032],\n",
      "        [0.5701, 0.6565, 0.5114,  ..., 1.1778, 0.5838, 0.5988]],\n",
      "       grad_fn=<SoftplusBackward0>)\n",
      "y_train=tensor([[0.0000, 0.3103, 0.2630,  ..., 2.9819, 2.0144, 0.0000],\n",
      "        [0.2987, 0.0000, 0.4647,  ..., 1.0000, 2.3951, 0.6415],\n",
      "        [0.7485, 0.0000, 0.5059,  ..., 1.2079, 1.4330, 1.1110],\n",
      "        ...,\n",
      "        [0.0000, 0.0000, 0.5558,  ..., 5.6212, 1.5261, 0.0000],\n",
      "        [0.0000, 0.0000, 1.0000,  ..., 3.3702, 1.6781, 0.5059],\n",
      "        [0.0000, 0.0000, 0.9782,  ..., 5.3709, 1.8359, 0.5460]])\n",
      "\n"
     ]
    }
   ],
   "source": [
    "epochs = 20\n",
    "log_every = 5\n",
    "val_every = 5\n",
    "batches = 0\n",
    "tot_batches = 0\n",
    "\n",
    "val_losses, val_iter = [], []\n",
    "train_losses, train_iter = [], []\n",
    "\n",
    "for i in range(epochs):\n",
    "    tot_train_loss = 0\n",
    "    for X_train, y_train in training_dataloader:\n",
    "        if batches % val_every == 0:\n",
    "            model.eval()\n",
    "            tot_val_loss = 0\n",
    "            val_samples = 0\n",
    "            for X, y in validation_dataloader:\n",
    "                \n",
    "                X_encoded = ipca.transform(X)\n",
    "                \n",
    "                X_encoded = torch.tensor(X_encoded, dtype=torch.float32, device='cuda' if use_cuda else 'cpu')\n",
    "                if use_cuda:\n",
    "                    y = y.cuda()\n",
    "                \n",
    "                y_pred = model.forward(X_encoded)\n",
    "                \n",
    "                val_loss = criterion(y_pred, y[:, :out_features])\n",
    "                tot_val_loss += get_numpy(val_loss)\n",
    "                val_samples += X.shape[0]\n",
    "\n",
    "            val_iter.append(batches)\n",
    "            val_losses.append(tot_val_loss/len(validation_dataloader))\n",
    "\n",
    "        model.train()\n",
    "        \n",
    "        X_encoded = ipca.transform(X_train)\n",
    "        \n",
    "        X_encoded = torch.tensor(X_encoded, dtype=torch.float32, device='cuda' if use_cuda else 'cpu')\n",
    "        \n",
    "        y_train = y_train[:, :out_features]\n",
    "        if use_cuda:\n",
    "            y_train = y_train.cuda()\n",
    "        \n",
    "        \n",
    "        y_pred = model.forward(X_encoded)\n",
    "        \n",
    "        train_loss = criterion(y_pred, y_train)\n",
    "        tot_train_loss += get_numpy(train_loss)\n",
    "        tot_batches += 1\n",
    "        \n",
    "        optimizer.zero_grad()\n",
    "        train_loss.backward()\n",
    "        optimizer.step()\n",
    "        \n",
    "    \n",
    "        if batches % log_every == 0:\n",
    "            train_iter.append(batches)\n",
    "            train_losses.append(tot_train_loss/tot_batches)\n",
    "            tot_train_loss = 0\n",
    "            tot_batches = 0\n",
    "            print(f\"Epoch {i+1}/{epochs}\")\n",
    "            print(f\"Training loss: {train_losses[-1]}\\nValidation loss: {val_losses[-1]}\")\n",
    "            print()\n",
    "            fig = plt.figure(figsize=(12,4))\n",
    "            plt.subplot(1, 2, 1)\n",
    "            plt.plot(train_iter, train_losses, label='train_loss')\n",
    "            plt.plot(val_iter, val_losses, label='valid_loss')\n",
    "            plt.legend()\n",
    "            plt.show()\n",
    "            print(f\"{y_pred=}\")\n",
    "            print(f\"{y_train=}\")\n",
    "            print()\n",
    "            clear_output(wait=True)\n",
    "    \n",
    "        batches += 1"
   ]
  }
 ],
 "metadata": {
  "kernelspec": {
   "display_name": "Python 3",
   "language": "python",
   "name": "python3"
  },
  "language_info": {
   "codemirror_mode": {
    "name": "ipython",
    "version": 3
   },
   "file_extension": ".py",
   "mimetype": "text/x-python",
   "name": "python",
   "nbconvert_exporter": "python",
   "pygments_lexer": "ipython3",
   "version": "3.11.6"
  }
 },
 "nbformat": 4,
 "nbformat_minor": 2
}
