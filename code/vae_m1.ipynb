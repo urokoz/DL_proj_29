{
 "cells": [
  {
   "cell_type": "code",
   "execution_count": 1,
   "metadata": {
    "code_folding": [
     0
    ]
   },
   "outputs": [
    {
     "name": "stdout",
     "output_type": "stream",
     "text": [
      "cuda: False\n"
     ]
    }
   ],
   "source": [
    "# Imports\n",
    "import torch\n",
    "has_cuda = torch.cuda.is_available()\n",
    "import numpy as np\n",
    "import os\n",
    "import matplotlib.pyplot as plt\n",
    "import matplotlib.gridspec as gridspec\n",
    "from sklearn.decomposition import PCA\n",
    "%matplotlib inline\n",
    "import sys\n",
    "sys.path.append(\"wohlert\") # add Wohlert's code: https://github.com/wohlert/semi-supervised-pytorch\n",
    "print(f'cuda: {has_cuda}')\n",
    "\n",
    "RANDOM_SEED=42\n",
    "torch.manual_seed(RANDOM_SEED)\n",
    "np.random.seed(RANDOM_SEED)\n",
    "\n",
    "fig_objects = [] # list of figures to be saved to a file\n",
    "fig_names   = []"
   ]
  },
  {
   "cell_type": "code",
   "execution_count": 2,
   "metadata": {},
   "outputs": [],
   "source": [
    "#gtex_filename = \"../data/gtex_gene_small.tsv\"\n",
    "gtex_filename = \"../data/gtex_gene_medium.tsv\"\n",
    "\n",
    "if (False): # small: SEPARATION IN Z-space\n",
    " # NN structure \n",
    " input_dim       = 18965 # gtex-gene features (can be reduced/capped for quicker tests if needed)\n",
    " latent_dim      = 32  \n",
    " hidden_layers   = [128]\n",
    "\n",
    " # Data loader\n",
    " BATCH_SIZE      = 32\n",
    " NUM_WORKERS     = 4\n",
    " PREFETCH_FACTOR = 2\n",
    "\n",
    " # Training pars\n",
    " TRAIN_EPOCHS    = 10\n",
    " LEARNING_RATE   = 1e-4 \n",
    " BETA            = 0.001\n",
    "\n",
    "elif (False): # small:  clear Z-separation  but \"line\" generated data.\n",
    "              # medium: same settings but DIVERSE generated date, though not clear Z-separation.\n",
    " # NN structure\n",
    " input_dim       = 18965 # gtex-gene features (can be reduced/capped for quicker tests if needed)\n",
    " latent_dim      = 16\n",
    " hidden_layers   = [64, 512]\n",
    "\n",
    " # Data loader\n",
    " BATCH_SIZE      = 32\n",
    " NUM_WORKERS     = 4\n",
    " PREFETCH_FACTOR = 2\n",
    "\n",
    " # Training pars\n",
    " TRAIN_EPOCHS    = 10\n",
    " LEARNING_RATE   = 1e-4 \n",
    " BETA            = 0.001\n",
    "else:       \n",
    " # NN structure\n",
    " input_dim       = 18965 # gtex-gene features (can be reduced/capped for quicker tests if needed)\n",
    " latent_dim      = 8\n",
    " hidden_layers   = [128, 1024]\n",
    "\n",
    " # Data loader\n",
    " BATCH_SIZE      = 32\n",
    " NUM_WORKERS     = 4\n",
    " PREFETCH_FACTOR = 2\n",
    "\n",
    " # Training pars\n",
    " TRAIN_EPOCHS    = 3\n",
    " LEARNING_RATE   = 1e-4 \n",
    " BETA            = 20"
   ]
  },
  {
   "cell_type": "markdown",
   "metadata": {},
   "source": [
    "### Helper function to save results (variables and figures)"
   ]
  },
  {
   "cell_type": "code",
   "execution_count": 3,
   "metadata": {},
   "outputs": [],
   "source": [
    "def save_results(filename, fig_objects, fig_names):\n",
    "\n",
    "  # Extract directory from filename\n",
    "  directory = os.path.dirname(filename)\n",
    "  if not os.path.exists(directory):\n",
    "    os.makedirs(directory)\n",
    "\n",
    " # Save variables\n",
    "  with open(filename, 'w') as file:\n",
    "    file.write(f\"Data            = {gtex_filename}\\n\\n\")  \n",
    "    file.write(f\"NN structure:\\n\")\n",
    "    file.write(f\"==============\\n\")\n",
    "    file.write(f\"input_dim       = {input_dim}\\n\")\n",
    "    file.write(f\"latent_dim      = {latent_dim}\\n\")\n",
    "    file.write(f\"hidden layers   = {hidden_layers}\\n\")\n",
    "    file.write(f\"Data loader:\\n\")\n",
    "    file.write(f\"==============\\n\")\n",
    "    file.write(f\"BATCH_SIZE      = {BATCH_SIZE}\\n\")\n",
    "    file.write(f\"NUM_WORKERS     = {NUM_WORKERS}\\n\")\n",
    "    file.write(f\"PREFETCH_FACTOR = {PREFETCH_FACTOR}\\n\\n\")\n",
    "    file.write(f\"Training pars:\\n\")\n",
    "    file.write(f\"==============\\n\")\n",
    "    file.write(f\"TRAIN_EPOCHS    = {TRAIN_EPOCHS}\\n\")\n",
    "    file.write(f\"LEARNING_RATE   = {LEARNING_RATE}\\n\")\n",
    "    file.write(f\"BETA            = {BETA}\\n\")\n",
    "\n",
    " # Save figures\n",
    "  for fig, name in zip(fig_objects, fig_names):\n",
    "    fig_path = os.path.join(directory, name + '.png')\n",
    "    fig.savefig(fig_path)    "
   ]
  },
  {
   "cell_type": "markdown",
   "metadata": {},
   "source": [
    "# Variational Autoencoder\n",
    "\n",
    "The variational autoencoder (VAE) was described in its current form in [Kingma 2013](https://arxiv.org/abs/1312.6114). The model consists of an encoder/inference network $q_{\\phi}(z|x)$ and a decoder/generative network $p_{\\theta}(x|z)$. The main idea is that it is possible to both reconstruct and generate samples from some input distribution by learning a variational distribution over the latent variable $z$.\n",
    "\n",
    "<img src=\"wohlert/images/vae.png\" width=\"300px\"/>\n",
    "\n",
    "The VAE therefore has a bottleneck structure, where the input $x$ is encoded into a latent variable $z$. New data can then be generated by feeding a latent code into the generator network - $\\widehat{x} \\sim p_{\\theta}(z|x)$. The diagram above shows the generative model (right) and how the latent variable $z$ is inferred from $x$ (left).\n",
    "\n",
    "Below a new variational autoencoder is instantiated with this bottleneck structure consisting of a 3-layer encoder network turning a GTEx-Gene sequence sample into a latent code: $18965 \\to 1024 \\to 256 \\to 128 \\to 32$. The decoder performs the operation in reverse."
   ]
  },
  {
   "cell_type": "code",
   "execution_count": 4,
   "metadata": {},
   "outputs": [
    {
     "name": "stderr",
     "output_type": "stream",
     "text": [
      "/home/evs/own/Courses/0_DEEP/P/git_p/code/wohlert/models/vae.py:125: UserWarning: nn.init.xavier_normal is now deprecated in favor of nn.init.xavier_normal_.\n",
      "  init.xavier_normal(m.weight.data)\n"
     ]
    },
    {
     "data": {
      "text/plain": [
       "VariationalAutoencoder(\n",
       "  (encoder): Encoder(\n",
       "    (hidden): ModuleList(\n",
       "      (0): Linear(in_features=18965, out_features=128, bias=True)\n",
       "      (1): Linear(in_features=128, out_features=1024, bias=True)\n",
       "    )\n",
       "    (sample): GaussianSample(\n",
       "      (mu): Linear(in_features=1024, out_features=8, bias=True)\n",
       "      (log_var): Linear(in_features=1024, out_features=8, bias=True)\n",
       "    )\n",
       "  )\n",
       "  (decoder): Decoder(\n",
       "    (hidden): ModuleList(\n",
       "      (0): Linear(in_features=8, out_features=1024, bias=True)\n",
       "      (1): Linear(in_features=1024, out_features=128, bias=True)\n",
       "    )\n",
       "    (reconstruction): Linear(in_features=128, out_features=18965, bias=True)\n",
       "    (output_activation): ReLU()\n",
       "  )\n",
       ")"
      ]
     },
     "execution_count": 4,
     "metadata": {},
     "output_type": "execute_result"
    }
   ],
   "source": [
    "from models import VariationalAutoencoder\n",
    "from layers import GaussianSample\n",
    "\n",
    "model = VariationalAutoencoder([input_dim, latent_dim, hidden_layers])\n",
    "model"
   ]
  },
  {
   "cell_type": "markdown",
   "metadata": {},
   "source": [
    "Notice how the middle most layer consists of a `GaussianSample` layer, in which we turn the input digit into the parameters of a Normal distribution with parameters $\\mu$ and $\\sigma$. This allows us to use the *reparametrization trick* to sample from this distribution to introduce stochasticity into the network."
   ]
  },
  {
   "cell_type": "code",
   "execution_count": 5,
   "metadata": {},
   "outputs": [
    {
     "name": "stdout",
     "output_type": "stream",
     "text": [
      "sample -0.66 drawn from N(0.82, 2.35)\n"
     ]
    }
   ],
   "source": [
    "from torch.autograd import Variable\n",
    "\n",
    "gaussian = GaussianSample(10, 1)\n",
    "z, mu, log_var = gaussian(torch.ones(1, 10))\n",
    "\n",
    "print(f\"sample {float(z.data):.2f} drawn from N({float(mu.data):.2f}, {float(log_var.exp().data):.2f})\")"
   ]
  },
  {
   "cell_type": "markdown",
   "metadata": {},
   "source": [
    "## Training\n",
    "\n",
    "How do we go about training a variational autoencoder then? We want to model the data distribution $p(x)$, from here we can introduce a variational distribution $q(z|x)$ by multiplying and dividing by this distribution. Now we employ Jensen's inequality to move the logarithm inside the integral, we can do this because $\\log$ is concave and because $q(z|x)$ is a probability distribution. From here on we just rearrange and we see that a lower bound on the marginal probability of the data $p(x)$ is just an expectation over the likelihood of the data minus the KL-divergence between the variational distribution and a prior $p(z)$.\n",
    "\n",
    "\\begin{align}\n",
    "\\log p(x) &= \\log \\int p(x, z) \\ dz = \\log \\int q(z|x) \\frac{p(x, z)}{q(z|x)} \\ dz\\\\\n",
    "          &\\geq \\int q(z|x) \\log \\frac{p(x, z)}{q(z|x)} \\ dz = \\int q(z|x) \\log p(x|z) + \\log \\frac{p(z)}{q(z|x)} \\ dz\\\\\n",
    "          &= \\int q(z|x) \\log p(x|z) \\ dz + \\int q(z|x) \\log \\frac{p(z)}{q(z|x)} \\ dz\\\\\n",
    "          &= \\mathbb{E}_{q(z|x)} [\\log p(x|z)] - KL(q(z|x)||p(z)) = \\mathcal{L}(x)\n",
    "\\end{align}\n",
    "\n",
    "To make things even more concrete, we show how we can go from this equation to an actual algorithm. Recall that the expectation is just an arithmetic mean, which can be approximated using Monte-Carlo samples. In fact for most applications we can do with just a single sample, even though this provides infinite variance.\n",
    "\n",
    "$$\\mathbb{E}_{q(z|x)} [\\log p(x|z)] = \\lim_{N \\to \\infty} \\frac{1}{N} \\sum_{i=1}^{N} \\log p(x_i|z_i) \\approx \\frac{1}{M} \\sum_{i=1}^{M} \\log p(x_i|z_i)$$\n",
    "\n",
    "As you can see the likelihood is just the log probability of the data given the latent variable, but the latent variable is itself derived from the data - we can just use the reconstruction error! In the MNIST case, it is most fitting to use the Bernoulli / binary cross entropy.\n",
    "\n",
    "Finally, the second term is the Kullback-Leibler divergence. It states that whatever distribution we learn over $q(z|x)$ can never be very far from the prior $p(z)$. This is both good and bad news. Ideally we want a reconstruction that is as good as possible, i.e. only relying on the likelihood, which will only occur if $q(z|x) = p(z)$. This will never happen in practice as the q-distribution will be very complex in order to produce latent variables that result convincing samples. On the plus side, the KL-term acts as a regularizer that pulls the distribution towards the prior, which is the whole reason why we can create samples.\n",
    "\n",
    "This term can either be computed analytically, or by sampling similarly to the way we did it in the expectation, which you can see in the printed doc string below."
   ]
  },
  {
   "cell_type": "code",
   "execution_count": 6,
   "metadata": {},
   "outputs": [
    {
     "name": "stdout",
     "output_type": "stream",
     "text": [
      "\n",
      "        Computes the KL-divergence of\n",
      "        some element z.\n",
      "\n",
      "        KL(q||p) = -∫ q(z) log [ p(z) / q(z) ]\n",
      "                 = -E[log p(z) - log q(z)]\n",
      "\n",
      "        :param z: sample from q-distribuion\n",
      "        :param q_param: (mu, log_var) of the q-distribution\n",
      "        :param p_param: (mu, log_var) of the p-distribution\n",
      "        :return: KL(q||p)\n",
      "        \n"
     ]
    }
   ],
   "source": [
    "print(model._kld.__doc__)"
   ]
  },
  {
   "cell_type": "code",
   "execution_count": 7,
   "metadata": {},
   "outputs": [
    {
     "name": "stdout",
     "output_type": "stream",
     "text": [
      "Dataset loaded\n",
      "Dataset loaded\n",
      "Train: Tensor 0: torch.Size([32, 18965])\n",
      "Train: Tensor 1: torch.Size([32, 0, 1])\n",
      "Total number of samples: 8000\n",
      "Validation: Tensor 0: torch.Size([32, 18965])\n",
      "Validation: Tensor 1: torch.Size([32, 0, 1])\n",
      "Total number of samples: 2016\n"
     ]
    }
   ],
   "source": [
    "from data_loader import StreamDataLoader # import our StreamDataLoader\n",
    "from torch.utils.data import DataLoader\n",
    "\n",
    "train_stream = StreamDataLoader(filename=gtex_filename, batch_size=BATCH_SIZE, split=\"train\", use_cuda=has_cuda)\n",
    "val_stream   = StreamDataLoader(filename=gtex_filename, batch_size=BATCH_SIZE, split=\"val\",   use_cuda=has_cuda)\n",
    "\n",
    "train_dl     = DataLoader(train_stream, batch_size=BATCH_SIZE, num_workers=NUM_WORKERS, prefetch_factor=PREFETCH_FACTOR)\n",
    "val_dl       = DataLoader(val_stream,   batch_size=BATCH_SIZE, num_workers=NUM_WORKERS, prefetch_factor=PREFETCH_FACTOR)\n",
    "\n",
    "# verify size of a sample batch\n",
    "t_sample_batch = next(iter(train_dl))\n",
    "for i, tensor in enumerate(t_sample_batch):\n",
    "    print(f'Train: Tensor {i}: {tensor.size()}')\n",
    "print(f'Total number of samples: {BATCH_SIZE*len(train_dl)}')\n",
    "\n",
    "v_sample_batch = next(iter(val_dl))\n",
    "for i, tensor in enumerate(v_sample_batch):\n",
    "    print(f'Validation: Tensor {i}: {tensor.size()}')    \n",
    "print(f'Total number of samples: {BATCH_SIZE*len(val_dl)}')    "
   ]
  },
  {
   "cell_type": "markdown",
   "metadata": {},
   "source": [
    "<font color='orangered'><b>DEBUG:</b></font> plot a GTEx-gene sequence"
   ]
  },
  {
   "cell_type": "code",
   "execution_count": 8,
   "metadata": {},
   "outputs": [
    {
     "data": {
      "image/png": "[encoded data removed]",
      "text/plain": [
       "<Figure size 1200x800 with 2 Axes>"
      ]
     },
     "metadata": {},
     "output_type": "display_data"
    }
   ],
   "source": [
    "t_gtex_sample_batch = t_sample_batch[0].detach().cpu().numpy()\n",
    "sample_idx = 11\n",
    "\n",
    "fig, (ax1, ax2) = plt.subplots(2,1, figsize=(12,8))\n",
    "\n",
    "ax1.plot(t_gtex_sample_batch[sample_idx,:])\n",
    "ax1.grid('both')\n",
    "\n",
    "ax2.plot(t_gtex_sample_batch[sample_idx,:])\n",
    "ax2.set_xlim((0,100))\n",
    "ax2.grid('both')\n",
    "\n",
    "plt.show()"
   ]
  },
  {
   "cell_type": "code",
   "execution_count": 9,
   "metadata": {},
   "outputs": [],
   "source": [
    "# Loss function\n",
    "def MSE(r, x):\n",
    "    return torch.mean((r - x) ** 2)\n",
    "\n",
    "optimizer = torch.optim.Adam(model.parameters(), lr=LEARNING_RATE, betas=(0.9, 0.999))"
   ]
  },
  {
   "cell_type": "code",
   "execution_count": 10,
   "metadata": {},
   "outputs": [
    {
     "name": "stdout",
     "output_type": "stream",
     "text": [
      "Epoch: 0\ttrain ELBO: 18.69733\tMSE: 6.29926\tKLdiv: 12.39807\n",
      "                val   ELBO: 5.64598\tMSE: 1.84117\tKLdiv: 3.80481\n",
      "\n",
      "Epoch: 1\ttrain ELBO: 5.68300\tMSE: 1.71727\tKLdiv: 3.96573\n",
      "                val   ELBO: 6.66122\tMSE: 1.65966\tKLdiv: 5.00155\n",
      "\n",
      "Epoch: 2\ttrain ELBO: 4.47896\tMSE: 1.61778\tKLdiv: 2.86117\n",
      "                val   ELBO: 4.02903\tMSE: 1.62390\tKLdiv: 2.40512\n",
      "\n"
     ]
    }
   ],
   "source": [
    "log_train_ELBO_m  = np.zeros([TRAIN_EPOCHS, len(train_dl)])\n",
    "log_train_MSE_m   = np.zeros([TRAIN_EPOCHS, len(train_dl)])\n",
    "log_train_KLdiv_m = np.zeros([TRAIN_EPOCHS, len(train_dl)])\n",
    "\n",
    "log_val_ELBO_m    = np.zeros([TRAIN_EPOCHS, len(val_dl)])\n",
    "log_val_MSE_m     = np.zeros([TRAIN_EPOCHS, len(val_dl)])\n",
    "log_val_KLdiv_m   = np.zeros([TRAIN_EPOCHS, len(val_dl)])\n",
    "# Matrix structure:\n",
    "#    ----- batches -----> \n",
    "#   |\n",
    "# epochs\n",
    "#   |\n",
    "#   v\n",
    "\n",
    "max_feature = 0\n",
    "\n",
    "latent_representations = []\n",
    "\n",
    "for epoch in range(TRAIN_EPOCHS):\n",
    "    model.train()\n",
    "\n",
    "    epoch_train_ELBO  = 0\n",
    "    epoch_train_MSE   = 0\n",
    "    epoch_train_KLdiv = 0\n",
    "    epoch_val_ELBO    = 0\n",
    "    epoch_val_MSE     = 0\n",
    "    epoch_val_KLdiv   = 0    \n",
    "    batch_counter     = 0\n",
    "    \n",
    "    # TRAINING LOOP\n",
    "    for (u, _) in train_dl:\n",
    "        u = u[:,:input_dim] \n",
    "        if torch.max(u) > max_feature:\n",
    "            max_feature = torch.max(u)\n",
    "            \n",
    "        if has_cuda: u = u.cuda(device=0)\n",
    "\n",
    "        reconstruction = model(u)\n",
    "        \n",
    "        MSE_batch = MSE(reconstruction, u)\n",
    "        KLdiv_batch = BETA * torch.mean(model.kl_divergence)\n",
    "        # ELBO is maximized in a VAE.\n",
    "        # By inverting ELBO, the terms inside are in practice minimized:\n",
    "        # minimizing mse_loss -> good sample reconstruction\n",
    "        # minimizing KL_div   -> \"moves\" distribution of latent vars towards prior distributions (acting as a regularizer)\n",
    "        ELBO_batch = (MSE_batch + KLdiv_batch)\n",
    "                \n",
    "        ELBO_batch.backward()\n",
    "        optimizer.step()\n",
    "        optimizer.zero_grad()\n",
    "                        \n",
    "        log_train_MSE_m[epoch, batch_counter]   = MSE_batch\n",
    "        log_train_KLdiv_m[epoch, batch_counter] = KLdiv_batch.item()\n",
    "        log_train_ELBO_m[epoch, batch_counter]  = ELBO_batch.item()\n",
    "\n",
    "        batch_counter += 1        \n",
    "\n",
    "    train_ELBO_epoch_now  = log_train_ELBO_m[epoch, :].mean(axis=0)\n",
    "    train_MSE_epoch_now   = log_train_MSE_m[epoch, :].mean(axis=0)\n",
    "    train_KLdiv_epoch_now = log_train_KLdiv_m[epoch, :].mean(axis=0)\n",
    "\n",
    "    # VALIDATION LOOP\n",
    "    batch_counter = 0\n",
    "    model.eval()    \n",
    "    with torch.inference_mode():                \n",
    "        for (u, _) in val_dl:\n",
    "            u = u[:,:input_dim]\n",
    "\n",
    "            if has_cuda: u = u.cuda(device=0)\n",
    "\n",
    "            # Get latent variables\n",
    "            z, _, _ = model.encoder.get_latent_vars(u)\n",
    "            latent_representations.append(z.detach().cpu().numpy())\n",
    "\n",
    "            reconstruction = model(u)\n",
    "            MSE_batch = MSE(reconstruction, u)\n",
    "            KLdiv_batch = BETA * torch.mean(model.kl_divergence)\n",
    "            ELBO_batch = (MSE_batch + KLdiv_batch)            \n",
    "            \n",
    "            log_val_MSE_m[epoch, batch_counter]   = MSE_batch\n",
    "            log_val_KLdiv_m[epoch, batch_counter] = KLdiv_batch.item()\n",
    "            log_val_ELBO_m[epoch, batch_counter]  = ELBO_batch.item()\n",
    "            batch_counter += 1        \n",
    "            \n",
    "    # PRINT RESULTS per EPOCH            \n",
    "    val_ELBO_epoch_now  = log_val_ELBO_m[epoch, :].mean(axis=0)            \n",
    "    val_MSE_epoch_now   = log_val_MSE_m[epoch, :].mean(axis=0)\n",
    "    val_KLdiv_epoch_now = log_val_KLdiv_m[epoch, :].mean(axis=0)\n",
    "\n",
    "    if (epoch >= 2):\n",
    "        overfit_warning_str = ''        \n",
    "        val_ELBO_epoch_old1 = log_val_ELBO_m[epoch-1, :].mean(axis=0)\n",
    "        val_ELBO_epoch_old2 = log_val_ELBO_m[epoch-2, :].mean(axis=0)\n",
    "\n",
    "        # Naive overfit detection (where validation goes down and then up)\n",
    "        if np.min([val_ELBO_epoch_now, val_ELBO_epoch_old1, val_ELBO_epoch_old2]) == val_ELBO_epoch_old1:\n",
    "            overfit_warning_str = ' <--- Possible overfit'\n",
    "\n",
    "    print(f'Epoch: {epoch}\\ttrain ELBO: {train_ELBO_epoch_now:2.5f}\\tMSE: {train_MSE_epoch_now:2.5f}\\tKLdiv: {train_KLdiv_epoch_now:2.5f}')\n",
    "    print(f'                val   ELBO: {val_ELBO_epoch_now:2.5f}\\tMSE: {val_MSE_epoch_now:2.5f}\\tKLdiv: {val_KLdiv_epoch_now:2.5f}\\n')\n",
    "\n",
    "\n",
    "# List of arrays -> single numpy array\n",
    "latent_representations = np.concatenate(latent_representations, axis=0)"
   ]
  },
  {
   "cell_type": "code",
   "execution_count": null,
   "metadata": {},
   "outputs": [],
   "source": [
    "# concatenate recorded batch losses for each epoch\n",
    "train_ELBO_vs_all_batches  = log_train_ELBO_m.reshape(TRAIN_EPOCHS*len(train_dl),1).squeeze()\n",
    "val_ELBO_vs_all_batches    = log_val_ELBO_m.reshape(TRAIN_EPOCHS*len(val_dl),1).squeeze()\n",
    "train_MSE_vs_all_batches   = log_train_MSE_m.reshape(TRAIN_EPOCHS*len(train_dl),1).squeeze()\n",
    "val_MSE_vs_all_batches     = log_val_MSE_m.reshape(TRAIN_EPOCHS*len(val_dl),1).squeeze()\n",
    "train_KLdiv_vs_all_batches = log_train_KLdiv_m.reshape(TRAIN_EPOCHS*len(train_dl),1).squeeze()\n",
    "val_KLdiv_vs_all_batches   = log_val_KLdiv_m.reshape(TRAIN_EPOCHS*len(val_dl),1).squeeze()\n",
    "\n",
    "batch_ratio   = len(train_ELBO_vs_all_batches) / len(val_ELBO_vs_all_batches)\n",
    "xaxis_train_v = np.arange(len(train_MSE_vs_all_batches))\n",
    "xaxis_val_v   = np.arange(len(val_MSE_vs_all_batches)) * batch_ratio\n",
    "\n",
    "# 2x2 grid \n",
    "fig = plt.figure(figsize=(10, 6))\n",
    "gs = gridspec.GridSpec(2, 2, width_ratios=[4, 2])\n",
    "fig_objects.append(fig)\n",
    "fig_names.append(\"train_val_losses\")\n",
    "\n",
    "\n",
    "ax1 = plt.subplot(gs[0,0])\n",
    "ax1.plot(xaxis_train_v, train_MSE_vs_all_batches, 'b')  \n",
    "ax1.plot(xaxis_train_v, train_KLdiv_vs_all_batches, 'g')  \n",
    "ax1.plot(xaxis_train_v, train_ELBO_vs_all_batches, 'r')  \n",
    "ax1.legend(['MSE', 'KLdiv', 'ELBO'])\n",
    "ax1.set_ylabel('batch loss') \n",
    "ax1.set_title(f'               ELBO train: {train_ELBO_vs_all_batches[-1]:2.3f}  val: {val_ELBO_vs_all_batches[-1]:2.3f}\\n\\\n",
    "              MSE train: {train_MSE_vs_all_batches[-1]:2.3f}  val: {val_MSE_vs_all_batches[-1]:2.3f}\\n\\\n",
    "               KLdiv train: {train_KLdiv_vs_all_batches[-1]:2.3f}  val: {val_KLdiv_vs_all_batches[-1]:2.3f}')\n",
    "\n",
    "ax1.grid('both')\n",
    "\n",
    "ax2 = plt.subplot(gs[1,0])\n",
    "ax2.plot(xaxis_val_v, val_MSE_vs_all_batches, 'b')  \n",
    "ax2.plot(xaxis_val_v, val_KLdiv_vs_all_batches, 'g')  \n",
    "ax2.plot(xaxis_val_v, val_ELBO_vs_all_batches, 'r')  \n",
    "ax2.legend(['MSE', 'KLdiv', 'ELBO'])\n",
    "ax2.set_xlabel('batch number')\n",
    "ax2.set_ylabel('batch loss') \n",
    "ax2.grid('both')\n",
    "\n",
    "ax3 = plt.subplot(gs[0,1])\n",
    "ax3.plot(xaxis_train_v, train_MSE_vs_all_batches, 'b')  \n",
    "ax3.plot(xaxis_train_v, train_KLdiv_vs_all_batches, 'g')  \n",
    "ax3.plot(xaxis_train_v, train_ELBO_vs_all_batches, 'r')  \n",
    "ax3.legend(['MSE', 'KLdiv', 'ELBO'], loc='lower left')\n",
    "ax3.set_ylabel('batch loss') \n",
    "ax3.set_xlim(xaxis_train_v[-100], xaxis_train_v[-1])\n",
    "ax3.set_ylim(0, 1.2*np.max(train_ELBO_vs_all_batches[-100:-1]))\n",
    "ax3.grid('both')\n",
    "\n",
    "ax4 = plt.subplot(gs[1,1])\n",
    "ax4.plot(xaxis_val_v, val_MSE_vs_all_batches, 'b')  \n",
    "ax4.plot(xaxis_val_v, val_KLdiv_vs_all_batches, 'g')  \n",
    "ax4.plot(xaxis_val_v, val_ELBO_vs_all_batches, 'r')  \n",
    "ax4.legend(['MSE', 'KLdiv', 'ELBO'], loc='lower left')\n",
    "ax4.set_xlabel('batch number')\n",
    "ax4.set_ylabel('batch loss') \n",
    "ax4.set_xlim(xaxis_val_v[-100], xaxis_val_v[-1])\n",
    "ax4.set_ylim(0, 1.2*np.max(val_ELBO_vs_all_batches[-100:-1]))\n",
    "ax4.grid('both')\n",
    "\n",
    "plt.show()\n",
    "\n",
    "fig = plt.figure(figsize=(10,3))\n",
    "fig_objects.append(fig)\n",
    "fig_names.append(\"train_val_elbo_over_epochs\")\n",
    "\n",
    "plt.plot(np.mean(log_train_ELBO_m, axis=1), 'r', label='train loss')\n",
    "plt.plot(np.mean(log_val_ELBO_m, axis=1), 'b', label='val loss')  \n",
    "plt.title('ELBO over epochs')\n",
    "plt.xlabel('epoch')\n",
    "plt.ylabel('MSE loss')\n",
    "plt.grid('both')\n",
    "plt.legend()\n",
    "\n",
    "plt.show()"
   ]
  },
  {
   "cell_type": "markdown",
   "metadata": {},
   "source": [
    "<font color='orangered'><b>DEBUG:</b></font> Check latent variables"
   ]
  },
  {
   "cell_type": "code",
   "execution_count": null,
   "metadata": {},
   "outputs": [],
   "source": [
    "sample_idx = 4\n",
    "t_gtex_sample = t_sample_batch[0][sample_idx][:input_dim]"
   ]
  },
  {
   "cell_type": "code",
   "execution_count": null,
   "metadata": {},
   "outputs": [],
   "source": [
    "model.eval()\n",
    "z, mu, log_var = model.encoder.get_latent_vars(t_gtex_sample)\n",
    "\n",
    "#print(f'z:       {z}')\n",
    "#print(f'mu:      {mu}')\n",
    "#print(f'log_var: {log_var}')\n"
   ]
  },
  {
   "cell_type": "markdown",
   "metadata": {},
   "source": [
    "## Sampling from the generative model\n",
    "\n",
    "Now that we have trained the network, we can begin to sample from it. We simply give it some random noise distributed according to the prior $p(z) = \\mathcal{N}(0, I)$ and send it through the decoder. This process generates a slew of samples that look like they come from the original distribution $p(x)$."
   ]
  },
  {
   "cell_type": "code",
   "execution_count": null,
   "metadata": {},
   "outputs": [],
   "source": [
    "n_samples = 256\n",
    "model.eval()\n",
    "random_sequence = torch.randn(n_samples, latent_dim)\n",
    "t_generated_data = model.sample(random_sequence)\n",
    "\n",
    "generated_data = t_generated_data.detach().cpu().numpy()"
   ]
  },
  {
   "cell_type": "markdown",
   "metadata": {},
   "source": [
    "<font color='orangered'><b>DEBUG:</b></font> plot generated GTEx-gene sequences"
   ]
  },
  {
   "cell_type": "code",
   "execution_count": null,
   "metadata": {},
   "outputs": [],
   "source": [
    "sample_idx = 1\n",
    "\n",
    "fig, ax = plt.subplots(2, 1, figsize=(9,5))\n",
    "fig_objects.append(fig)\n",
    "fig_names.append(\"generated_data\")\n",
    "\n",
    "ax[0].plot(generated_data[sample_idx,:])\n",
    "ax[0].grid('both')\n",
    "ax[1].plot(generated_data[sample_idx  ,:], 'r')\n",
    "ax[1].plot(generated_data[sample_idx+1,:], 'b')\n",
    "ax[1].plot(generated_data[sample_idx+2,:], 'k')\n",
    "ax[1].plot(generated_data[sample_idx+3,:], 'g')\n",
    "ax[1].plot(generated_data[sample_idx+4,:], 'c')\n",
    "ax[1].set_xlim((0,100))\n",
    "ax[1].grid('both')\n",
    "\n",
    "plt.show()"
   ]
  },
  {
   "cell_type": "markdown",
   "metadata": {},
   "source": [
    "## PCA analysis:\n",
    "- Make a PCA on the training data and transform it.\n",
    "- Transform the generated data with the found pca's above.\n",
    "- Plot both transformed data sets to assess whether they are in similar regions.\n",
    "\n",
    "`IncrementalPCA` is used to perform the PCA in batches (due to memory limitations)."
   ]
  },
  {
   "cell_type": "code",
   "execution_count": null,
   "metadata": {},
   "outputs": [],
   "source": [
    "from sklearn.decomposition import IncrementalPCA\n",
    "import numpy as np\n",
    "import matplotlib.pyplot as plt\n",
    "\n",
    "# Incremental PCA\n",
    "n_components = 2\n",
    "ipca = IncrementalPCA(n_components=n_components, batch_size=BATCH_SIZE)\n",
    "\n",
    "# Fit IPCA on training data\n",
    "for data, _ in train_dl:\n",
    "    data = data[:,:input_dim] \n",
    "    ipca.partial_fit(data.cpu().numpy())\n",
    "\n",
    "# Transform generated data\n",
    "generated_data_transformed = ipca.transform(generated_data)\n",
    "\n",
    "# Transform original data (in batches)\n",
    "def transform_in_batches(dataloader, pca_model):\n",
    "    transformed_data_list = []\n",
    "    for data, _ in dataloader:\n",
    "        data = data[:,:input_dim]\n",
    "        transformed_batch = pca_model.transform(data.cpu().numpy())\n",
    "        transformed_data_list.append(transformed_batch)\n",
    "    return np.concatenate(transformed_data_list, axis=0)\n",
    "\n",
    "original_data_transformed = transform_in_batches(train_dl, ipca)\n",
    "\n",
    "fig = plt.figure(figsize=(5, 5))\n",
    "fig_objects.append(fig)\n",
    "fig_names.append(\"IPCA_orig_vs_generated_data\")\n",
    "\n",
    "# Original data\n",
    "plt.scatter(original_data_transformed[:, 0], original_data_transformed[:, 1], alpha=0.7, label='Original Data')\n",
    "# Generated data\n",
    "plt.scatter(generated_data_transformed[:, 0], generated_data_transformed[:, 1], alpha=0.7, label='Generated Data')\n",
    "\n",
    "plt.title('PCA Projection of Original and Generated GTEx-Gene Sequences')\n",
    "plt.xlabel('PC1')\n",
    "plt.ylabel('PC2')\n",
    "plt.legend()\n",
    "plt.show()\n",
    "\n",
    "## OUTPUT DATA\n",
    "pca_output = PCA(n_components=n_components)\n",
    "pca_gen_data = pca_output.fit_transform(generated_data)\n",
    "\n",
    "fig = plt.figure(figsize=(5, 5))\n",
    "fig_objects.append(fig)\n",
    "fig_names.append(\"PCA_generated_data\")\n",
    "\n",
    "plt.scatter(pca_gen_data[:, 0], pca_gen_data[:, 1], alpha=0.7, label='z')\n",
    "plt.title('PCA of generated data')\n",
    "plt.xlabel('PC1')\n",
    "plt.ylabel('PC2')\n",
    "plt.legend()\n",
    "plt.show()\n"
   ]
  },
  {
   "cell_type": "markdown",
   "metadata": {},
   "source": [
    "### PCA analysis on the latent representation"
   ]
  },
  {
   "cell_type": "code",
   "execution_count": null,
   "metadata": {},
   "outputs": [],
   "source": [
    "n_components = 2\n",
    "\n",
    "pca = PCA(n_components=n_components)\n",
    "latent_pca = pca.fit_transform(latent_representations)\n",
    "\n",
    "fig = plt.figure(figsize=(5, 5))\n",
    "fig_objects.append(fig)\n",
    "fig_names.append(\"PCA_of_latent_representations\")\n",
    "\n",
    "plt.scatter(latent_pca[:, 0], latent_pca[:, 1], alpha=0.7, label='z')\n",
    "plt.title('PCA of latent representations')\n",
    "plt.xlabel('PC1')\n",
    "plt.ylabel('PC2')\n",
    "plt.legend()\n",
    "plt.show()"
   ]
  },
  {
   "cell_type": "markdown",
   "metadata": {},
   "source": [
    "#### Save results"
   ]
  },
  {
   "cell_type": "code",
   "execution_count": null,
   "metadata": {},
   "outputs": [],
   "source": [
    "save_results('results_latests/parameters.txt', fig_objects, fig_names)"
   ]
  }
 ],
 "metadata": {
  "kernelspec": {
   "display_name": "Python 3",
   "language": "python",
   "name": "python3"
  },
  "language_info": {
   "codemirror_mode": {
    "name": "ipython",
    "version": 3
   },
   "file_extension": ".py",
   "mimetype": "text/x-python",
   "name": "python",
   "nbconvert_exporter": "python",
   "pygments_lexer": "ipython3",
   "version": "3.10.12"
  }
 },
 "nbformat": 4,
 "nbformat_minor": 2
}
